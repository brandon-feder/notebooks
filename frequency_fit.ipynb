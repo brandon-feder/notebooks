{
 "cells": [
  {
   "cell_type": "markdown",
   "metadata": {},
   "source": [
    "## Frequency fitting\n",
    "Showing the $T^{-3}$ behavior."
   ]
  },
  {
   "cell_type": "code",
   "execution_count": 1,
   "metadata": {},
   "outputs": [],
   "source": [
    "import numpy as np\n",
    "import matplotlib.pyplot as plt\n",
    "from scipy.optimize import fmin"
   ]
  },
  {
   "cell_type": "code",
   "execution_count": 2,
   "metadata": {},
   "outputs": [],
   "source": [
    "omega_true = 1.5\n",
    "noise = 2.0\n",
    "\n",
    "def fit_one(N):\n",
    "    x = np.arange(N)\n",
    "    theory = lambda omega : np.sin(x*omega)\n",
    "    y =theory(omega_true)+np.random.normal(0,noise,N)\n",
    "    omega = fmin(lambda omega: ((y-theory(omega))**2).sum(),omega_true,disp=False)\n",
    "    return omega"
   ]
  },
  {
   "cell_type": "code",
   "execution_count": 3,
   "metadata": {},
   "outputs": [],
   "source": [
    "Ntrials = 300\n",
    "err_at_N = lambda N : np.sqrt(((np.array([fit_one(N) for i in range(Ntrials)])-omega_true)**2).mean())"
   ]
  },
  {
   "cell_type": "code",
   "execution_count": 4,
   "metadata": {},
   "outputs": [],
   "source": [
    "Narr = np.logspace(0.5,4,20).astype(int)\n",
    "err = [err_at_N(N) for N in Narr]"
   ]
  },
  {
   "cell_type": "code",
   "execution_count": 5,
   "metadata": {},
   "outputs": [],
   "source": [
    "theory_err = (Narr**3/(6*noise**2))**(-1/2)"
   ]
  },
  {
   "cell_type": "code",
   "execution_count": 6,
   "metadata": {},
   "outputs": [
    {
     "data": {
      "image/png": "[encoded data removed]",
      "text/plain": [
       "<Figure size 432x288 with 1 Axes>"
      ]
     },
     "metadata": {
      "needs_background": "light"
     },
     "output_type": "display_data"
    }
   ],
   "source": [
    "plt.plot(Narr,err,'bo')\n",
    "plt.plot(Narr,theory_err,'r-')\n",
    "plt.semilogx()\n",
    "plt.semilogy()\n",
    "plt.xlabel(\"T\")\n",
    "plt.ylabel(\"error\")\n",
    "None"
   ]
  },
  {
   "cell_type": "code",
   "execution_count": null,
   "metadata": {},
   "outputs": [],
   "source": []
  }
 ],
 "metadata": {
  "kernelspec": {
   "display_name": "Python 3",
   "language": "python",
   "name": "python3"
  },
  "language_info": {
   "codemirror_mode": {
    "name": "ipython",
    "version": 3
   },
   "file_extension": ".py",
   "mimetype": "text/x-python",
   "name": "python",
   "nbconvert_exporter": "python",
   "pygments_lexer": "ipython3",
   "version": "3.6.10"
  }
 },
 "nbformat": 4,
 "nbformat_minor": 4
}
